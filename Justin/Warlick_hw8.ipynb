{
 "cells": [
  {
   "cell_type": "markdown",
   "metadata": {
    "collapsed": true
   },
   "source": [
    "# HW8 - Transient Model With River "
   ]
  },
  {
   "cell_type": "markdown",
   "metadata": {},
   "source": [
    "Instructions:  \n",
    "For this assignment we will all start from the self check model but each group will be responsible for doing a different modification. Note that you only have to do the part that is assigned to your group not all three parts.\n",
    "\n",
    "Group 1:  \n",
    "* Modify the self check example to make it a steady state model and then explore the sensitivity of the model to the boundary condition heads and the heads in the river (this would probably be best done with a loop).\n",
    "\n",
    "* First systematically vary the two boundary condition heads. You can vary both heads together as well as create gradients across the domain by having one side be higher. Make sure you explore head ranges that make the aquifer confined and unconfined.\n",
    "\n",
    "* Then explore changing the head in the river again systematically varying it across a range of values.\n",
    "\n",
    "* Use the river leakage outputs in the water balance file to calculate how the water exchanges between the river and the aquifer change as a function of head\n",
    "\n",
    "* Compare the impact of changing heads in the river to changing boundary condition heads on your results."
   ]
  },
  {
   "cell_type": "markdown",
   "metadata": {},
   "source": [
    "# Import Packages"
   ]
  },
  {
   "cell_type": "code",
   "execution_count": 2,
   "metadata": {},
   "outputs": [
    {
     "output_type": "stream",
     "name": "stdout",
     "text": "flopy is installed in /Library/Frameworks/Python.framework/Versions/3.8/lib/python3.8/site-packages/flopy\n"
    }
   ],
   "source": [
    "import flopy\n",
    "import numpy as np\n",
    "import matplotlib as mp\n",
    "import os\n",
    "import flopy.utils.binaryfile as bf\n",
    "from mpl_toolkits.mplot3d import Axes3D\n",
    "import matplotlib.pyplot as plt\n",
    "from matplotlib import cm\n",
    "from matplotlib.ticker import LinearLocator, FormatStrFormatter\n",
    "import csv\n",
    "%matplotlib inline"
   ]
  },
  {
   "cell_type": "code",
   "execution_count": 3,
   "metadata": {},
   "outputs": [],
   "source": [
    "nrow=25\n",
    "ncol=25\n",
    "nlay=1\n",
    "dx=40\n",
    "dy=40\n",
    "Lx=ncol*dx\n",
    "Ly=nrow*dy\n",
    "ztop=50\n",
    "zbot=0\n",
    "dz=(ztop-zbot)/nlay\n",
    "nper=1\n",
    "steady=[True]\n",
    "hk=1.\n",
    "vka=1.\n",
    "n=0.35\n",
    "Sy=0.1\n",
    "Ss=1e-4\n",
    "ibound=np.ones((nlay,nrow,ncol),dtype=np.int32)\n",
    "strt=np.ones((nlay,nrow,ncol),dtype=np.float32)"
   ]
  },
  {
   "cell_type": "code",
   "execution_count": 19,
   "metadata": {},
   "outputs": [
    {
     "output_type": "stream",
     "name": "stdout",
     "text": "\n \n Scenario 1\nWarlick_hw8_SLR1\nFloPy is using the following  executable to run the model: /Users/hardknox47/Desktop/HWRS482/MODFLOW/pymake/examples/mf2005\n\n                                  MODFLOW-2005     \n    U.S. GEOLOGICAL SURVEY MODULAR FINITE-DIFFERENCE GROUND-WATER FLOW MODEL\n                             Version 1.12.00 2/3/2017                        \n\n Using NAME file: Warlick_hw8_SLR1.nam \n Run start date and time (yyyy/mm/dd hh:mm:ss): 2020/04/08 15:34:23\n\n Solving:  Stress period:     1    Time step:     1    Ground-Water Flow Eqn.\n Run end date and time (yyyy/mm/dd hh:mm:ss): 2020/04/08 15:34:23\n Elapsed run time:  0.011 Seconds\n\n  Normal termination of simulation\n\n \n Scenario 2\nWarlick_hw8_SLR2\nFloPy is using the following  executable to run the model: /Users/hardknox47/Desktop/HWRS482/MODFLOW/pymake/examples/mf2005\n\n                                  MODFLOW-2005     \n    U.S. GEOLOGICAL SURVEY MODULAR FINITE-DIFFERENCE GROUND-WATER FLOW MODEL\n                             Version 1.12.00 2/3/2017                        \n\n Using NAME file: Warlick_hw8_SLR2.nam \n Run start date and time (yyyy/mm/dd hh:mm:ss): 2020/04/08 15:34:23\n\n Solving:  Stress period:     1    Time step:     1    Ground-Water Flow Eqn.\n Run end date and time (yyyy/mm/dd hh:mm:ss): 2020/04/08 15:34:23\n Elapsed run time:  0.006 Seconds\n\n  Normal termination of simulation\n\n \n Scenario 3\nWarlick_hw8_SLR3\nFloPy is using the following  executable to run the model: /Users/hardknox47/Desktop/HWRS482/MODFLOW/pymake/examples/mf2005\n\n                                  MODFLOW-2005     \n    U.S. GEOLOGICAL SURVEY MODULAR FINITE-DIFFERENCE GROUND-WATER FLOW MODEL\n                             Version 1.12.00 2/3/2017                        \n\n Using NAME file: Warlick_hw8_SLR3.nam \n Run start date and time (yyyy/mm/dd hh:mm:ss): 2020/04/08 15:34:23\n\n Solving:  Stress period:     1    Time step:     1    Ground-Water Flow Eqn.\n Run end date and time (yyyy/mm/dd hh:mm:ss): 2020/04/08 15:34:23\n Elapsed run time:  0.005 Seconds\n\n  Normal termination of simulation\n\n \n Scenario 4\nWarlick_hw8_SLR4\nFloPy is using the following  executable to run the model: /Users/hardknox47/Desktop/HWRS482/MODFLOW/pymake/examples/mf2005\n\n                                  MODFLOW-2005     \n    U.S. GEOLOGICAL SURVEY MODULAR FINITE-DIFFERENCE GROUND-WATER FLOW MODEL\n                             Version 1.12.00 2/3/2017                        \n\n Using NAME file: Warlick_hw8_SLR4.nam \n Run start date and time (yyyy/mm/dd hh:mm:ss): 2020/04/08 15:34:23\n\n Solving:  Stress period:     1    Time step:     1    Ground-Water Flow Eqn.\n Run end date and time (yyyy/mm/dd hh:mm:ss): 2020/04/08 15:34:23\n Elapsed run time:  0.006 Seconds\n\n  Normal termination of simulation\n\n \n Scenario 5\nWarlick_hw8_SLR5\nFloPy is using the following  executable to run the model: /Users/hardknox47/Desktop/HWRS482/MODFLOW/pymake/examples/mf2005\n\n                                  MODFLOW-2005     \n    U.S. GEOLOGICAL SURVEY MODULAR FINITE-DIFFERENCE GROUND-WATER FLOW MODEL\n                             Version 1.12.00 2/3/2017                        \n\n Using NAME file: Warlick_hw8_SLR5.nam \n Run start date and time (yyyy/mm/dd hh:mm:ss): 2020/04/08 15:34:23\n\n Solving:  Stress period:     1    Time step:     1    Ground-Water Flow Eqn.\n Run end date and time (yyyy/mm/dd hh:mm:ss): 2020/04/08 15:34:23\n Elapsed run time:  0.006 Seconds\n\n  Normal termination of simulation\n\n \n Scenario 6\nWarlick_hw8_SLR6\nFloPy is using the following  executable to run the model: /Users/hardknox47/Desktop/HWRS482/MODFLOW/pymake/examples/mf2005\n\n                                  MODFLOW-2005     \n    U.S. GEOLOGICAL SURVEY MODULAR FINITE-DIFFERENCE GROUND-WATER FLOW MODEL\n                             Version 1.12.00 2/3/2017                        \n\n Using NAME file: Warlick_hw8_SLR6.nam \n Run start date and time (yyyy/mm/dd hh:mm:ss): 2020/04/08 15:34:23\n\n Solving:  Stress period:     1    Time step:     1    Ground-Water Flow Eqn.\n Run end date and time (yyyy/mm/dd hh:mm:ss): 2020/04/08 15:34:23\n Elapsed run time:  0.008 Seconds\n\n  Normal termination of simulation\n\n \n Scenario 7\nWarlick_hw8_SLR7\nFloPy is using the following  executable to run the model: /Users/hardknox47/Desktop/HWRS482/MODFLOW/pymake/examples/mf2005\n\n                                  MODFLOW-2005     \n    U.S. GEOLOGICAL SURVEY MODULAR FINITE-DIFFERENCE GROUND-WATER FLOW MODEL\n                             Version 1.12.00 2/3/2017                        \n\n Using NAME file: Warlick_hw8_SLR7.nam \n Run start date and time (yyyy/mm/dd hh:mm:ss): 2020/04/08 15:34:23\n\n Solving:  Stress period:     1    Time step:     1    Ground-Water Flow Eqn.\n Run end date and time (yyyy/mm/dd hh:mm:ss): 2020/04/08 15:34:23\n Elapsed run time:  0.007 Seconds\n\n  Normal termination of simulation\n\n \n Scenario 8\nWarlick_hw8_SLR8\nFloPy is using the following  executable to run the model: /Users/hardknox47/Desktop/HWRS482/MODFLOW/pymake/examples/mf2005\n\n                                  MODFLOW-2005     \n    U.S. GEOLOGICAL SURVEY MODULAR FINITE-DIFFERENCE GROUND-WATER FLOW MODEL\n                             Version 1.12.00 2/3/2017                        \n\n Using NAME file: Warlick_hw8_SLR8.nam \n Run start date and time (yyyy/mm/dd hh:mm:ss): 2020/04/08 15:34:23\n\n Solving:  Stress period:     1    Time step:     1    Ground-Water Flow Eqn.\n Run end date and time (yyyy/mm/dd hh:mm:ss): 2020/04/08 15:34:24\n Elapsed run time:  0.008 Seconds\n\n  Normal termination of simulation\n\n \n Scenario 9\nWarlick_hw8_SLR9\nFloPy is using the following  executable to run the model: /Users/hardknox47/Desktop/HWRS482/MODFLOW/pymake/examples/mf2005\n\n                                  MODFLOW-2005     \n    U.S. GEOLOGICAL SURVEY MODULAR FINITE-DIFFERENCE GROUND-WATER FLOW MODEL\n                             Version 1.12.00 2/3/2017                        \n\n Using NAME file: Warlick_hw8_SLR9.nam \n Run start date and time (yyyy/mm/dd hh:mm:ss): 2020/04/08 15:34:24\n\n Solving:  Stress period:     1    Time step:     1    Ground-Water Flow Eqn.\n Run end date and time (yyyy/mm/dd hh:mm:ss): 2020/04/08 15:34:24\n Elapsed run time:  0.009 Seconds\n\n  Normal termination of simulation\n\n \n Scenario 10\nWarlick_hw8_SLR10\nFloPy is using the following  executable to run the model: /Users/hardknox47/Desktop/HWRS482/MODFLOW/pymake/examples/mf2005\n\n                                  MODFLOW-2005     \n    U.S. GEOLOGICAL SURVEY MODULAR FINITE-DIFFERENCE GROUND-WATER FLOW MODEL\n                             Version 1.12.00 2/3/2017                        \n\n Using NAME file: Warlick_hw8_SLR10.nam \n Run start date and time (yyyy/mm/dd hh:mm:ss): 2020/04/08 15:34:24\n\n Solving:  Stress period:     1    Time step:     1    Ground-Water Flow Eqn.\n"
    },
    {
     "output_type": "error",
     "ename": "Exception",
     "evalue": "MODFLOW did not terminate normally.",
     "traceback": [
      "\u001b[0;31m---------------------------------------------------------------------------\u001b[0m",
      "\u001b[0;31mException\u001b[0m                                 Traceback (most recent call last)",
      "\u001b[0;32m<ipython-input-19-077d5a28851e>\u001b[0m in \u001b[0;36m<module>\u001b[0;34m\u001b[0m\n\u001b[1;32m     49\u001b[0m     \u001b[0msuccess\u001b[0m\u001b[0;34m,\u001b[0m\u001b[0mmfoutput\u001b[0m\u001b[0;34m=\u001b[0m\u001b[0mm\u001b[0m\u001b[0;34m.\u001b[0m\u001b[0mrun_model\u001b[0m\u001b[0;34m(\u001b[0m\u001b[0mpause\u001b[0m\u001b[0;34m=\u001b[0m\u001b[0;32mFalse\u001b[0m\u001b[0;34m,\u001b[0m\u001b[0mreport\u001b[0m\u001b[0;34m=\u001b[0m\u001b[0;32mTrue\u001b[0m\u001b[0;34m)\u001b[0m\u001b[0;34m\u001b[0m\u001b[0;34m\u001b[0m\u001b[0m\n\u001b[1;32m     50\u001b[0m     \u001b[0;32mif\u001b[0m \u001b[0;32mnot\u001b[0m \u001b[0msuccess\u001b[0m\u001b[0;34m:\u001b[0m\u001b[0;34m\u001b[0m\u001b[0;34m\u001b[0m\u001b[0m\n\u001b[0;32m---> 51\u001b[0;31m         \u001b[0;32mraise\u001b[0m \u001b[0mException\u001b[0m\u001b[0;34m(\u001b[0m\u001b[0;34m'MODFLOW did not terminate normally.'\u001b[0m\u001b[0;34m)\u001b[0m\u001b[0;34m\u001b[0m\u001b[0;34m\u001b[0m\u001b[0m\n\u001b[0m",
      "\u001b[0;31mException\u001b[0m: MODFLOW did not terminate normally."
     ]
    }
   ],
   "source": [
    "moddir=\"/Users/hardknox47/Desktop/HWRS482/MODFLOW/pymake/examples/mf2005\"\n",
    "for scenario in range(0,10):\n",
    "    print('\\n \\n Scenario',scenario+1)\n",
    "    modelname='Warlick_hw8'+'_SLR'+str(scenario+1)\n",
    "    print(modelname)\n",
    "    m=flopy.modflow.Modflow(modelname, exe_name=moddir)\n",
    "    dis=flopy.modflow.ModflowDis(model=m,nlay=nlay,nrow=nrow,\n",
    "                                 ncol=ncol,delr=dx,delc=dy,top=ztop,\n",
    "                                 botm=zbot,itmuni=4,lenuni=2,nper=nper,\n",
    "                                 steady=steady)\n",
    "    \n",
    "    bas=flopy.modflow.ModflowBas(m,ibound=ibound,strt=strt)\n",
    "       \n",
    "    lpf=flopy.modflow.ModflowLpf(m,laytyp=1,hk=hk,vka=vka,\n",
    "                                 ss=Ss,sy=Sy,storagecoefficient=True,\n",
    "                                 ipakcb=53)\n",
    "    \n",
    "    head=[90,80,70,60,50,40,30,20,10,0]\n",
    "    bound_sp1=[]\n",
    "    for lay in range(nlay):\n",
    "        for row in range(nrow):\n",
    "            bound_sp1.append([lay,row,0,head[scenario],head[scenario]])\n",
    "            bound_sp1.append([lay,row,ncol-1,head[scenario],head[scenario]])\n",
    "    chd_spd={0:bound_sp1}\n",
    "    \n",
    "    chd=flopy.modflow.ModflowChd(model=m,stress_period_data=chd_spd)\n",
    "\n",
    "    riv_sp1=[]\n",
    "    k_rivbott=51 \n",
    "    sed_thick=1 \n",
    "    cond=k_rivbott*(dy)*(dx)/(sed_thick) \n",
    "    r_stage=51 \n",
    "    r_bott=50 \n",
    "    for i in range(nrow):\n",
    "        riv_sp1.append([0,i,ncol/2,r_stage,cond,r_bott])\n",
    "\n",
    "    riv_spd={0:riv_sp1}\n",
    "\n",
    "    riv=flopy.modflow.ModflowRiv(model=m,stress_period_data=riv_spd,ipakcb=53)\n",
    "\n",
    "    pcg=flopy.modflow.ModflowPcg(model=m)\n",
    "    \n",
    "    spd={(0,0):['print head','print budget','save head', \n",
    "                'save budget']}  \n",
    "    \n",
    "    oc=flopy.modflow.ModflowOc(m,stress_period_data=spd,compact=True)\n",
    "\n",
    "    m.write_input()\n",
    "    success,mfoutput=m.run_model(pause=False,report=True)\n",
    "    if not success:\n",
    "        raise Exception('MODFLOW did not terminate normally.')\n",
    ""
   ]
  },
  {
   "cell_type": "code",
   "execution_count": null,
   "metadata": {},
   "outputs": [],
   "source": []
  }
 ],
 "metadata": {
  "kernelspec": {
   "display_name": "Python 3",
   "language": "python",
   "name": "python3"
  },
  "language_info": {
   "codemirror_mode": {
    "name": "ipython",
    "version": 3
   },
   "file_extension": ".py",
   "mimetype": "text/x-python",
   "name": "python",
   "nbconvert_exporter": "python",
   "pygments_lexer": "ipython3",
   "version": "3.8.1-final"
  }
 },
 "nbformat": 4,
 "nbformat_minor": 2
}